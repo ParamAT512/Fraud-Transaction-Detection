{
 "cells": [
  {
   "cell_type": "code",
   "execution_count": 1,
   "id": "dce2834d-a019-4f6d-8113-548b6a287a27",
   "metadata": {},
   "outputs": [],
   "source": [
    "import pandas as pd"
   ]
  },
  {
   "cell_type": "code",
   "execution_count": 3,
   "id": "6a75cad3-9ef9-4338-861e-6baf4fbc3047",
   "metadata": {},
   "outputs": [],
   "source": [
    "fraud = pd.read_csv(\"Fraud.csv\")"
   ]
  },
  {
   "cell_type": "code",
   "execution_count": 3,
   "id": "e133b710-11fb-4d20-9923-31c616af3b97",
   "metadata": {},
   "outputs": [
    {
     "data": {
      "text/html": [
       "<div>\n",
       "<style scoped>\n",
       "    .dataframe tbody tr th:only-of-type {\n",
       "        vertical-align: middle;\n",
       "    }\n",
       "\n",
       "    .dataframe tbody tr th {\n",
       "        vertical-align: top;\n",
       "    }\n",
       "\n",
       "    .dataframe thead th {\n",
       "        text-align: right;\n",
       "    }\n",
       "</style>\n",
       "<table border=\"1\" class=\"dataframe\">\n",
       "  <thead>\n",
       "    <tr style=\"text-align: right;\">\n",
       "      <th></th>\n",
       "      <th>step</th>\n",
       "      <th>type</th>\n",
       "      <th>amount</th>\n",
       "      <th>nameOrig</th>\n",
       "      <th>oldbalanceOrg</th>\n",
       "      <th>newbalanceOrig</th>\n",
       "      <th>nameDest</th>\n",
       "      <th>oldbalanceDest</th>\n",
       "      <th>newbalanceDest</th>\n",
       "      <th>isFraud</th>\n",
       "      <th>isFlaggedFraud</th>\n",
       "    </tr>\n",
       "  </thead>\n",
       "  <tbody>\n",
       "    <tr>\n",
       "      <th>0</th>\n",
       "      <td>1</td>\n",
       "      <td>PAYMENT</td>\n",
       "      <td>9839.64</td>\n",
       "      <td>C1231006815</td>\n",
       "      <td>170136.00</td>\n",
       "      <td>160296.36</td>\n",
       "      <td>M1979787155</td>\n",
       "      <td>0.0</td>\n",
       "      <td>0.00</td>\n",
       "      <td>0</td>\n",
       "      <td>0</td>\n",
       "    </tr>\n",
       "    <tr>\n",
       "      <th>1</th>\n",
       "      <td>1</td>\n",
       "      <td>PAYMENT</td>\n",
       "      <td>1864.28</td>\n",
       "      <td>C1666544295</td>\n",
       "      <td>21249.00</td>\n",
       "      <td>19384.72</td>\n",
       "      <td>M2044282225</td>\n",
       "      <td>0.0</td>\n",
       "      <td>0.00</td>\n",
       "      <td>0</td>\n",
       "      <td>0</td>\n",
       "    </tr>\n",
       "    <tr>\n",
       "      <th>2</th>\n",
       "      <td>1</td>\n",
       "      <td>TRANSFER</td>\n",
       "      <td>181.00</td>\n",
       "      <td>C1305486145</td>\n",
       "      <td>181.00</td>\n",
       "      <td>0.00</td>\n",
       "      <td>C553264065</td>\n",
       "      <td>0.0</td>\n",
       "      <td>0.00</td>\n",
       "      <td>1</td>\n",
       "      <td>0</td>\n",
       "    </tr>\n",
       "    <tr>\n",
       "      <th>3</th>\n",
       "      <td>1</td>\n",
       "      <td>CASH_OUT</td>\n",
       "      <td>181.00</td>\n",
       "      <td>C840083671</td>\n",
       "      <td>181.00</td>\n",
       "      <td>0.00</td>\n",
       "      <td>C38997010</td>\n",
       "      <td>21182.0</td>\n",
       "      <td>0.00</td>\n",
       "      <td>1</td>\n",
       "      <td>0</td>\n",
       "    </tr>\n",
       "    <tr>\n",
       "      <th>4</th>\n",
       "      <td>1</td>\n",
       "      <td>PAYMENT</td>\n",
       "      <td>11668.14</td>\n",
       "      <td>C2048537720</td>\n",
       "      <td>41554.00</td>\n",
       "      <td>29885.86</td>\n",
       "      <td>M1230701703</td>\n",
       "      <td>0.0</td>\n",
       "      <td>0.00</td>\n",
       "      <td>0</td>\n",
       "      <td>0</td>\n",
       "    </tr>\n",
       "    <tr>\n",
       "      <th>5</th>\n",
       "      <td>1</td>\n",
       "      <td>PAYMENT</td>\n",
       "      <td>7817.71</td>\n",
       "      <td>C90045638</td>\n",
       "      <td>53860.00</td>\n",
       "      <td>46042.29</td>\n",
       "      <td>M573487274</td>\n",
       "      <td>0.0</td>\n",
       "      <td>0.00</td>\n",
       "      <td>0</td>\n",
       "      <td>0</td>\n",
       "    </tr>\n",
       "    <tr>\n",
       "      <th>6</th>\n",
       "      <td>1</td>\n",
       "      <td>PAYMENT</td>\n",
       "      <td>7107.77</td>\n",
       "      <td>C154988899</td>\n",
       "      <td>183195.00</td>\n",
       "      <td>176087.23</td>\n",
       "      <td>M408069119</td>\n",
       "      <td>0.0</td>\n",
       "      <td>0.00</td>\n",
       "      <td>0</td>\n",
       "      <td>0</td>\n",
       "    </tr>\n",
       "    <tr>\n",
       "      <th>7</th>\n",
       "      <td>1</td>\n",
       "      <td>PAYMENT</td>\n",
       "      <td>7861.64</td>\n",
       "      <td>C1912850431</td>\n",
       "      <td>176087.23</td>\n",
       "      <td>168225.59</td>\n",
       "      <td>M633326333</td>\n",
       "      <td>0.0</td>\n",
       "      <td>0.00</td>\n",
       "      <td>0</td>\n",
       "      <td>0</td>\n",
       "    </tr>\n",
       "    <tr>\n",
       "      <th>8</th>\n",
       "      <td>1</td>\n",
       "      <td>PAYMENT</td>\n",
       "      <td>4024.36</td>\n",
       "      <td>C1265012928</td>\n",
       "      <td>2671.00</td>\n",
       "      <td>0.00</td>\n",
       "      <td>M1176932104</td>\n",
       "      <td>0.0</td>\n",
       "      <td>0.00</td>\n",
       "      <td>0</td>\n",
       "      <td>0</td>\n",
       "    </tr>\n",
       "    <tr>\n",
       "      <th>9</th>\n",
       "      <td>1</td>\n",
       "      <td>DEBIT</td>\n",
       "      <td>5337.77</td>\n",
       "      <td>C712410124</td>\n",
       "      <td>41720.00</td>\n",
       "      <td>36382.23</td>\n",
       "      <td>C195600860</td>\n",
       "      <td>41898.0</td>\n",
       "      <td>40348.79</td>\n",
       "      <td>0</td>\n",
       "      <td>0</td>\n",
       "    </tr>\n",
       "  </tbody>\n",
       "</table>\n",
       "</div>"
      ],
      "text/plain": [
       "   step      type    amount     nameOrig  oldbalanceOrg  newbalanceOrig  \\\n",
       "0     1   PAYMENT   9839.64  C1231006815      170136.00       160296.36   \n",
       "1     1   PAYMENT   1864.28  C1666544295       21249.00        19384.72   \n",
       "2     1  TRANSFER    181.00  C1305486145         181.00            0.00   \n",
       "3     1  CASH_OUT    181.00   C840083671         181.00            0.00   \n",
       "4     1   PAYMENT  11668.14  C2048537720       41554.00        29885.86   \n",
       "5     1   PAYMENT   7817.71    C90045638       53860.00        46042.29   \n",
       "6     1   PAYMENT   7107.77   C154988899      183195.00       176087.23   \n",
       "7     1   PAYMENT   7861.64  C1912850431      176087.23       168225.59   \n",
       "8     1   PAYMENT   4024.36  C1265012928        2671.00            0.00   \n",
       "9     1     DEBIT   5337.77   C712410124       41720.00        36382.23   \n",
       "\n",
       "      nameDest  oldbalanceDest  newbalanceDest  isFraud  isFlaggedFraud  \n",
       "0  M1979787155             0.0            0.00        0               0  \n",
       "1  M2044282225             0.0            0.00        0               0  \n",
       "2   C553264065             0.0            0.00        1               0  \n",
       "3    C38997010         21182.0            0.00        1               0  \n",
       "4  M1230701703             0.0            0.00        0               0  \n",
       "5   M573487274             0.0            0.00        0               0  \n",
       "6   M408069119             0.0            0.00        0               0  \n",
       "7   M633326333             0.0            0.00        0               0  \n",
       "8  M1176932104             0.0            0.00        0               0  \n",
       "9   C195600860         41898.0        40348.79        0               0  "
      ]
     },
     "execution_count": 3,
     "metadata": {},
     "output_type": "execute_result"
    }
   ],
   "source": [
    "fraud.head(10)"
   ]
  },
  {
   "cell_type": "code",
   "execution_count": 4,
   "id": "99789975-5eba-47ef-9bac-dd75a9e73aae",
   "metadata": {},
   "outputs": [],
   "source": [
    "fraud = fraud.drop(columns = [\"isFlaggedFraud\"])"
   ]
  },
  {
   "cell_type": "code",
   "execution_count": 5,
   "id": "deff91e7-8d33-4e47-abed-37ded0ac336b",
   "metadata": {},
   "outputs": [
    {
     "data": {
      "text/plain": [
       "step                  743\n",
       "type                    5\n",
       "amount            5316900\n",
       "nameOrig          6353307\n",
       "oldbalanceOrg     1845844\n",
       "newbalanceOrig    2682586\n",
       "nameDest          2722362\n",
       "oldbalanceDest    3614697\n",
       "newbalanceDest    3555499\n",
       "isFraud                 2\n",
       "dtype: int64"
      ]
     },
     "execution_count": 5,
     "metadata": {},
     "output_type": "execute_result"
    }
   ],
   "source": [
    "fraud.nunique()"
   ]
  },
  {
   "cell_type": "code",
   "execution_count": 6,
   "id": "8cde3f9a-68c9-4ac0-8ac5-2700618ece94",
   "metadata": {},
   "outputs": [
    {
     "data": {
      "text/plain": [
       "step              0\n",
       "type              0\n",
       "amount            0\n",
       "nameOrig          0\n",
       "oldbalanceOrg     0\n",
       "newbalanceOrig    0\n",
       "nameDest          0\n",
       "oldbalanceDest    0\n",
       "newbalanceDest    0\n",
       "isFraud           0\n",
       "dtype: int64"
      ]
     },
     "execution_count": 6,
     "metadata": {},
     "output_type": "execute_result"
    }
   ],
   "source": [
    "fraud.isnull().sum()"
   ]
  },
  {
   "cell_type": "code",
   "execution_count": 7,
   "id": "b8a5cc47-d599-4e0e-b13f-502a7b7ce285",
   "metadata": {},
   "outputs": [
    {
     "data": {
      "text/plain": [
       "step                    0\n",
       "type                    0\n",
       "amount                 16\n",
       "nameOrig                0\n",
       "oldbalanceOrg     2102449\n",
       "newbalanceOrig    3609566\n",
       "nameDest                0\n",
       "oldbalanceDest    2704388\n",
       "newbalanceDest    2439433\n",
       "isFraud           6354407\n",
       "dtype: int64"
      ]
     },
     "execution_count": 7,
     "metadata": {},
     "output_type": "execute_result"
    }
   ],
   "source": [
    "zero_counts = (fraud == 0).sum()\n",
    "zero_counts"
   ]
  },
  {
   "cell_type": "code",
   "execution_count": 5,
   "id": "240e192a-1c62-4ccf-8afa-cd9865634528",
   "metadata": {},
   "outputs": [],
   "source": [
    "import matplotlib.pyplot as plt\n",
    "import numpy as np"
   ]
  },
  {
   "cell_type": "code",
   "execution_count": 9,
   "id": "09b93b51-5b77-4f0e-b12d-cd69470d8801",
   "metadata": {},
   "outputs": [
    {
     "data": {
      "text/plain": [
       "[<matplotlib.lines.Line2D at 0x1d6366da7b0>]"
      ]
     },
     "execution_count": 9,
     "metadata": {},
     "output_type": "execute_result"
    },
    {
     "data": {
      "image/png": "[encoded data removed]",
      "text/plain": [
       "<Figure size 640x480 with 1 Axes>"
      ]
     },
     "metadata": {},
     "output_type": "display_data"
    }
   ],
   "source": [
    "plt.plot(fraud['step'], fraud['isFraud'])"
   ]
  },
  {
   "cell_type": "code",
   "execution_count": 10,
   "id": "c37cb46a-406f-43b0-964c-707af0c0d7cb",
   "metadata": {},
   "outputs": [
    {
     "data": {
      "text/plain": [
       "<matplotlib.collections.PathCollection at 0x1d636711f10>"
      ]
     },
     "execution_count": 10,
     "metadata": {},
     "output_type": "execute_result"
    },
    {
     "data": {
      "image/png": "[encoded data removed]",
      "text/plain": [
       "<Figure size 640x480 with 1 Axes>"
      ]
     },
     "metadata": {},
     "output_type": "display_data"
    }
   ],
   "source": [
    "plt.scatter(fraud['step'], fraud['isFraud'])\n"
   ]
  },
  {
   "cell_type": "code",
   "execution_count": null,
   "id": "15501d3e-6085-4e6c-be47-b08b785e7907",
   "metadata": {},
   "outputs": [],
   "source": [
    "plt.bar(fraud['step'], fraud['isFraud'])"
   ]
  },
  {
   "cell_type": "code",
   "execution_count": null,
   "id": "22d24d57-33ca-4e71-b128-956203d1bd4f",
   "metadata": {},
   "outputs": [],
   "source": [
    "plt.hist(fraud, bins=10)"
   ]
  },
  {
   "cell_type": "code",
   "execution_count": null,
   "id": "d959b114-f9c1-463d-94cd-4eea88fc3b7a",
   "metadata": {},
   "outputs": [],
   "source": [
    "plt.boxplot(fraud)"
   ]
  },
  {
   "cell_type": "code",
   "execution_count": null,
   "id": "c6bebe56-f6b5-4385-a095-6033dd9d3d7d",
   "metadata": {},
   "outputs": [],
   "source": [
    "import matplotlib.pyplot as plt\n",
    "\n",
    "plt.scatter(fraud['step'], fraud['isFraud'], alpha=1)\n",
    "plt.xlabel('Step')\n",
    "plt.ylabel('isFraud')\n",
    "plt.title('Scatter Plot of Step vs isFraud')\n",
    "plt.show()\n"
   ]
  },
  {
   "cell_type": "code",
   "execution_count": 8,
   "id": "f9c98311-d28b-4cb2-a08b-ca5c25b79aa0",
   "metadata": {},
   "outputs": [
    {
     "name": "stdout",
     "output_type": "stream",
     "text": [
      "   step      type    amount     nameOrig  oldbalanceOrg  newbalanceOrig  \\\n",
      "0     1   PAYMENT   9839.64  C1231006815       170136.0       160296.36   \n",
      "1     1   PAYMENT   1864.28  C1666544295        21249.0        19384.72   \n",
      "2     1  TRANSFER    181.00  C1305486145          181.0            0.00   \n",
      "3     1  CASH_OUT    181.00   C840083671          181.0            0.00   \n",
      "4     1   PAYMENT  11668.14  C2048537720        41554.0        29885.86   \n",
      "\n",
      "      nameDest  oldbalanceDest  newbalanceDest  isFraud  \n",
      "0  M1979787155             0.0             0.0        0  \n",
      "1  M2044282225             0.0             0.0        0  \n",
      "2   C553264065             0.0             0.0        1  \n",
      "3    C38997010         21182.0             0.0        1  \n",
      "4  M1230701703             0.0             0.0        0  \n"
     ]
    }
   ],
   "source": [
    "# Calculate total fraudulent transactions per step\n",
    "fraud_per_step = fraud.groupby('step')['isFraud'].sum()\n",
    "\n",
    "# Convert to DataFrame for clarity (optional)\n",
    "frame = fraud_per_step.reset_index(name='fraud_count')\n",
    "\n",
    "print(fraud.head())\n"
   ]
  },
  {
   "cell_type": "code",
   "execution_count": 11,
   "id": "e2b06986-5acd-443b-b6a0-377c9284f499",
   "metadata": {},
   "outputs": [
    {
     "name": "stdout",
     "output_type": "stream",
     "text": [
      "   step  fraud_count\n",
      "0     1           16\n",
      "1     2            8\n",
      "2     3            4\n",
      "3     4           10\n",
      "4     5            6\n"
     ]
    }
   ],
   "source": [
    "# Calculate total fraudulent transactions per step\n",
    "fraud_per_step = fraud.groupby('step')['isFraud'].sum().reset_index(name='fraud_count')\n",
    "\n",
    "print(fraud_per_step.head())\n"
   ]
  },
  {
   "cell_type": "code",
   "execution_count": 13,
   "id": "08bdd8d1-73ac-4a04-8cde-ac4785a5c012",
   "metadata": {},
   "outputs": [
    {
     "data": {
      "image/png": "[encoded data removed]",
      "text/plain": [
       "<Figure size 1000x600 with 1 Axes>"
      ]
     },
     "metadata": {},
     "output_type": "display_data"
    }
   ],
   "source": [
    "import matplotlib.pyplot as plt\n",
    "\n",
    "plt.figure(figsize=(10, 6))  # Adjust figure size if needed\n",
    "plt.bar(fraud_per_step['step'], fraud_per_step['fraud_count'], color='skyblue')\n",
    "plt.xlabel('Step (Hour)')\n",
    "plt.ylabel('Number of Fraudulent Transactions')\n",
    "plt.title('Number of Fraudulent Transactions vs Step')\n",
    "plt.grid(True)\n",
    "plt.xticks(rotation=45)  # Rotate x-axis labels for better readability\n",
    "plt.tight_layout()\n",
    "plt.show()\n"
   ]
  },
  {
   "cell_type": "code",
   "execution_count": 11,
   "id": "06289dbd-506f-46d3-b28a-9d8ea8d1a1f8",
   "metadata": {},
   "outputs": [
    {
     "name": "stdout",
     "output_type": "stream",
     "text": [
      "       type  fraud_count\n",
      "0   CASH_IN            0\n",
      "1  CASH_OUT         4116\n",
      "2     DEBIT            0\n",
      "3   PAYMENT            0\n",
      "4  TRANSFER         4097\n"
     ]
    }
   ],
   "source": [
    "# Calculate total fraudulent transactions per transaction type\n",
    "fraud_per_type = fraud.groupby('type')['isFraud'].sum().reset_index(name='fraud_count')\n",
    "\n",
    "print(fraud_per_type.head())\n"
   ]
  },
  {
   "cell_type": "code",
   "execution_count": null,
   "id": "558cd918-b6d5-44f4-87f9-81341abb1a5f",
   "metadata": {},
   "outputs": [],
   "source": []
  },
  {
   "cell_type": "code",
   "execution_count": 11,
   "id": "3ed50fae-edf6-453f-91e6-aa89f871fc3c",
   "metadata": {},
   "outputs": [
    {
     "data": {
      "image/png": "[encoded data removed]",
      "text/plain": [
       "<Figure size 1000x600 with 1 Axes>"
      ]
     },
     "metadata": {},
     "output_type": "display_data"
    }
   ],
   "source": [
    "import matplotlib.pyplot as plt\n",
    "\n",
    "plt.figure(figsize=(10, 6))  # Adjust figure size if needed\n",
    "plt.bar(fraud_per_type['type'], fraud_per_type['fraud_count'], color='skyblue')\n",
    "plt.xlabel('Transaction Type')\n",
    "plt.ylabel('Number of Fraudulent Transactions')\n",
    "plt.title('Number of Fraudulent Transactions by Transaction Type')\n",
    "plt.grid(True)\n",
    "plt.xticks(rotation=45)  # Rotate x-axis labels for better readability\n",
    "plt.tight_layout()\n",
    "plt.show()\n",
    "\n"
   ]
  },
  {
   "cell_type": "code",
   "execution_count": null,
   "id": "755723b3-f3c8-4fdd-a5f7-72a6b5d9b72e",
   "metadata": {},
   "outputs": [],
   "source": []
  },
  {
   "cell_type": "code",
   "execution_count": 13,
   "id": "8dba9534-3331-487b-81c2-355781550ce5",
   "metadata": {},
   "outputs": [
    {
     "name": "stdout",
     "output_type": "stream",
     "text": [
      "Steps with zero fraud committed: [347, 545]\n"
     ]
    }
   ],
   "source": [
    "# Group by 'step' and count the number of fraudulent transactions\n",
    "fraud_per_step = fraud.groupby('step')['isFraud'].sum().reset_index(name='fraud_count')\n",
    "\n",
    "# Identify steps with zero fraud\n",
    "steps_with_zero_fraud = fraud_per_step[fraud_per_step['fraud_count'] == 0]['step'].tolist()\n",
    "\n",
    "print(\"Steps with zero fraud committed:\", steps_with_zero_fraud)\n"
   ]
  },
  {
   "cell_type": "code",
   "execution_count": 17,
   "id": "80dfb0cc-c80c-4463-a213-e060e6a8f2ce",
   "metadata": {},
   "outputs": [
    {
     "name": "stdout",
     "output_type": "stream",
     "text": [
      "Rows where step number is 347:\n",
      "         step      type     amount     nameOrig  oldbalanceOrg  \\\n",
      "4826429   347   PAYMENT   24397.08  C2003447429       47003.00   \n",
      "4826430   347  CASH_OUT  425481.65  C1632450194        1781.00   \n",
      "4826431   347   PAYMENT   24507.09  C1673794240       61363.00   \n",
      "4826432   347   PAYMENT   30909.01   C877101186       21239.00   \n",
      "4826433   347   CASH_IN   65312.04  C2141687402       53008.00   \n",
      "...       ...       ...        ...          ...            ...   \n",
      "4856646   347  CASH_OUT  113285.47  C1546748674           0.00   \n",
      "4856647   347  CASH_OUT  211963.45  C1185728397           0.00   \n",
      "4856648   347   CASH_IN  342777.86   C471625342       10514.00   \n",
      "4856649   347   CASH_IN  197829.79  C1140440324      251278.00   \n",
      "4856650   347   PAYMENT   10305.49   C327163882      449107.79   \n",
      "\n",
      "         newbalanceOrig     nameDest  oldbalanceDest  newbalanceDest  isFraud  \n",
      "4826429        22605.92   M393004226            0.00            0.00        0  \n",
      "4826430            0.00  C1742752678       580981.94      1006463.59        0  \n",
      "4826431        36855.91  M1165760059            0.00            0.00        0  \n",
      "4826432            0.00  M1010227518            0.00            0.00        0  \n",
      "4826433       118320.04  C1656534458        32308.55            0.00        0  \n",
      "...                 ...          ...             ...             ...      ...  \n",
      "4856646            0.00   C552048018      9699178.18      9812463.65        0  \n",
      "4856647            0.00  C1651257606     13116654.39     13328617.83        0  \n",
      "4856648       353291.86  C1003724965       114777.74            0.00        0  \n",
      "4856649       449107.79   C403355021      1050831.24       853001.45        0  \n",
      "4856650       438802.30   M867185336            0.00            0.00        0  \n",
      "\n",
      "[30222 rows x 10 columns]\n"
     ]
    }
   ],
   "source": [
    "# Filter rows where 'step' column is equal to 347\n",
    "step_347_data = fraud[fraud['step'] == 347]\n",
    "\n",
    "# Display the filtered data\n",
    "print(\"Rows where step number is 347:\")\n",
    "\n",
    "print(step_347_data)\n"
   ]
  },
  {
   "cell_type": "code",
   "execution_count": 15,
   "id": "82e5fd8a-2acb-4c37-8350-5430bf44b464",
   "metadata": {},
   "outputs": [
    {
     "name": "stdout",
     "output_type": "stream",
     "text": [
      "Rows where step number is 347 and isFraud is 1:\n",
      "Empty DataFrame\n",
      "Columns: [step, type, amount, nameOrig, oldbalanceOrg, newbalanceOrig, nameDest, oldbalanceDest, newbalanceDest, isFraud]\n",
      "Index: []\n"
     ]
    }
   ],
   "source": [
    "# Filter rows where 'step' column is equal to 347 and 'isFraud' column is equal to 1\n",
    "step_347_isFraud_1 = fraud[(fraud['step'] == 347) & (fraud['isFraud'] == 1)]\n",
    "\n",
    "# Display the filtered data\n",
    "print(\"Rows where step number is 347 and isFraud is 1:\")\n",
    "print(step_347_isFraud_1)\n"
   ]
  },
  {
   "cell_type": "code",
   "execution_count": 17,
   "id": "866d25ca-b46c-48c7-8200-5d4b3522de37",
   "metadata": {},
   "outputs": [],
   "source": [
    "fraud = fraud[~fraud['type'].isin(['CASH_IN', 'DEBIT', 'PAYMENT'])]\n"
   ]
  },
  {
   "cell_type": "code",
   "execution_count": 11,
   "id": "7f4920ca-a105-4f5a-a8f2-c73605c9e101",
   "metadata": {},
   "outputs": [
    {
     "name": "stdout",
     "output_type": "stream",
     "text": [
      "         step      type      amount     nameOrig  oldbalanceOrg  \\\n",
      "2           1  TRANSFER      181.00  C1305486145         181.00   \n",
      "3           1  CASH_OUT      181.00   C840083671         181.00   \n",
      "15          1  CASH_OUT   229133.94   C905080434       15325.00   \n",
      "19          1  TRANSFER   215310.30  C1670993182         705.00   \n",
      "24          1  TRANSFER   311685.89  C1984094095       10835.00   \n",
      "...       ...       ...         ...          ...            ...   \n",
      "6362615   743  CASH_OUT   339682.13   C786484425      339682.13   \n",
      "6362616   743  TRANSFER  6311409.28  C1529008245     6311409.28   \n",
      "6362617   743  CASH_OUT  6311409.28  C1162922333     6311409.28   \n",
      "6362618   743  TRANSFER   850002.52  C1685995037      850002.52   \n",
      "6362619   743  CASH_OUT   850002.52  C1280323807      850002.52   \n",
      "\n",
      "         newbalanceOrig     nameDest  oldbalanceDest  newbalanceDest  isFraud  \n",
      "2                   0.0   C553264065            0.00            0.00        1  \n",
      "3                   0.0    C38997010        21182.00            0.00        1  \n",
      "15                  0.0   C476402209         5083.00        51513.44        0  \n",
      "19                  0.0  C1100439041        22425.00            0.00        0  \n",
      "24                  0.0   C932583850         6267.00      2719172.89        0  \n",
      "...                 ...          ...             ...             ...      ...  \n",
      "6362615             0.0   C776919290            0.00       339682.13        1  \n",
      "6362616             0.0  C1881841831            0.00            0.00        1  \n",
      "6362617             0.0  C1365125890        68488.84      6379898.11        1  \n",
      "6362618             0.0  C2080388513            0.00            0.00        1  \n",
      "6362619             0.0   C873221189      6510099.11      7360101.63        1  \n",
      "\n",
      "[2770409 rows x 10 columns]\n"
     ]
    }
   ],
   "source": [
    "print(fraud)"
   ]
  },
  {
   "cell_type": "code",
   "execution_count": 25,
   "id": "bad2b031-3140-4d2d-8e0b-7e7a229123fa",
   "metadata": {},
   "outputs": [],
   "source": [
    "fraudd = fraud[fraud['isFraud']==1]\n",
    "normal = fraud[fraud['isFraud']==0]"
   ]
  },
  {
   "cell_type": "code",
   "execution_count": 27,
   "id": "223ca90c-2a05-4872-8140-800590d522a9",
   "metadata": {},
   "outputs": [
    {
     "name": "stdout",
     "output_type": "stream",
     "text": [
      "(8213, 10) (2762196, 10)\n"
     ]
    }
   ],
   "source": [
    "print(fraudd.shape, normal.shape)"
   ]
  },
  {
   "cell_type": "code",
   "execution_count": 37,
   "id": "d0c1fbb9-ae6e-4a8b-9d30-8a84051f4d5f",
   "metadata": {},
   "outputs": [
    {
     "data": {
      "text/plain": [
       "count       8213.000\n",
       "mean     1467967.299\n",
       "std      2404252.947\n",
       "min            0.000\n",
       "25%       127091.330\n",
       "50%       441423.440\n",
       "75%      1517771.480\n",
       "max     10000000.000\n",
       "Name: amount, dtype: float64"
      ]
     },
     "execution_count": 37,
     "metadata": {},
     "output_type": "execute_result"
    }
   ],
   "source": [
    "fraudd.amount.describe()"
   ]
  },
  {
   "cell_type": "code",
   "execution_count": 19,
   "id": "d3c7eee4-7071-4907-84f8-24e1291ff3b0",
   "metadata": {},
   "outputs": [],
   "source": [
    "pd.set_option('display.float_format', lambda x: '%.3f' % x)"
   ]
  },
  {
   "cell_type": "code",
   "execution_count": 19,
   "id": "6cd831ab-023a-4f2e-b9b3-7d0c01e2532b",
   "metadata": {},
   "outputs": [
    {
     "name": "stdout",
     "output_type": "stream",
     "text": [
      "       type  fraud_count\n",
      "0  CASH_OUT         4116\n",
      "1  TRANSFER         4097\n"
     ]
    }
   ],
   "source": [
    "# Calculate total fraudulent transactions per transaction type\n",
    "fraud_per_type1 = fraud.groupby('type')['isFraud'].sum().reset_index(name='fraud_count')\n",
    "\n",
    "print(fraud_per_type1.head())"
   ]
  },
  {
   "cell_type": "code",
   "execution_count": 43,
   "id": "ad6680e1-c5b0-4b0b-afcc-116a7d1d9e26",
   "metadata": {},
   "outputs": [
    {
     "data": {
      "image/png": "[encoded data removed]",
      "text/plain": [
       "<Figure size 800x600 with 1 Axes>"
      ]
     },
     "metadata": {},
     "output_type": "display_data"
    }
   ],
   "source": [
    "fraud_filtered = fraud[fraud['isFraud'] == 1]\n",
    "\n",
    "# Create a boxplot of 'step' column for isfraud == 1\n",
    "plt.figure(figsize=(8, 6))\n",
    "plt.boxplot(fraud_filtered['step'], vert=False)\n",
    "plt.xlabel('Step')\n",
    "plt.title('Boxplot of Step for isfraud == 1')\n",
    "plt.show()"
   ]
  },
  {
   "cell_type": "code",
   "execution_count": 45,
   "id": "4f073a09-2365-4568-89b4-cbcc84e6083c",
   "metadata": {},
   "outputs": [
    {
     "data": {
      "text/plain": [
       "count   8213.000\n",
       "mean     368.414\n",
       "std      216.389\n",
       "min        1.000\n",
       "25%      181.000\n",
       "50%      367.000\n",
       "75%      558.000\n",
       "max      743.000\n",
       "Name: step, dtype: float64"
      ]
     },
     "execution_count": 45,
     "metadata": {},
     "output_type": "execute_result"
    }
   ],
   "source": [
    "fraudd.step.describe()"
   ]
  },
  {
   "cell_type": "code",
   "execution_count": 29,
   "id": "d6392fc1-ef5c-434e-a89f-e2b50da1f228",
   "metadata": {},
   "outputs": [],
   "source": [
    "import matplotlib.pyplot as plt\n",
    "import numpy as np"
   ]
  },
  {
   "cell_type": "code",
   "execution_count": 55,
   "id": "e63e27b8-cc52-448e-8a3b-4c3be1321f0b",
   "metadata": {},
   "outputs": [
    {
     "data": {
      "image/png": "[encoded data removed]",
      "text/plain": [
       "<Figure size 1200x600 with 1 Axes>"
      ]
     },
     "metadata": {},
     "output_type": "display_data"
    },
    {
     "data": {
      "image/png": "[encoded data removed]",
      "text/plain": [
       "<Figure size 1200x600 with 1 Axes>"
      ]
     },
     "metadata": {},
     "output_type": "display_data"
    }
   ],
   "source": [
    "bins_fraud = int(np.sqrt(len(fraud)))  # Square root of number of samples\n",
    "bins_normal = int(np.sqrt(len(normal)))  # Square root of number of samples\n",
    "\n",
    "# Create histograms for 'amount' column in fraud\n",
    "plt.figure(figsize=(12, 6))\n",
    "plt.hist(fraud['amount'], bins=bins_fraud, alpha=0.5, color='blue', label='fraud')\n",
    "plt.xlabel('Amount')\n",
    "plt.ylabel('Frequency')\n",
    "plt.title('Histogram of Amount for fraud')\n",
    "plt.legend()\n",
    "plt.show()\n",
    "\n",
    "# Create histograms for 'amount' column in normal\n",
    "plt.figure(figsize=(12, 6))\n",
    "plt.hist(normal['amount'], bins=bins_normal, alpha=0.5, color='green', label='normal')\n",
    "plt.xlabel('Amount')\n",
    "plt.ylabel('Frequency')\n",
    "plt.title('Histogram of Amount for normal')\n",
    "plt.legend()\n",
    "plt.show()"
   ]
  },
  {
   "cell_type": "code",
   "execution_count": 57,
   "id": "4de3160a-fbce-4553-bbb9-a7f3d4157c2b",
   "metadata": {},
   "outputs": [
    {
     "data": {
      "image/png": "[encoded data removed]",
      "text/plain": [
       "<Figure size 1200x600 with 1 Axes>"
      ]
     },
     "metadata": {},
     "output_type": "display_data"
    },
    {
     "data": {
      "image/png": "[encoded data removed]",
      "text/plain": [
       "<Figure size 1200x600 with 1 Axes>"
      ]
     },
     "metadata": {},
     "output_type": "display_data"
    }
   ],
   "source": [
    "bins_fraud = int(np.sqrt(len(fraud)))  # Square root of number of samples\n",
    "bins_normal = int(np.sqrt(len(normal)))  # Square root of number of samples\n",
    "\n",
    "# Create histograms for 'amount' column in fraud with larger bars\n",
    "plt.figure(figsize=(12, 6))\n",
    "plt.hist(fraud['amount'], bins=bins_fraud, alpha=0.8, color='blue', label='fraud')\n",
    "plt.xlabel('Amount')\n",
    "plt.ylabel('Frequency')\n",
    "plt.title('Histogram of Amount for fraud')\n",
    "plt.legend()\n",
    "plt.show()\n",
    "\n",
    "# Create histograms for 'amount' column in normal with larger bars\n",
    "plt.figure(figsize=(12, 6))\n",
    "plt.hist(normal['amount'], bins=bins_normal, alpha=0.8, color='green', label='normal')\n",
    "plt.xlabel('Amount')\n",
    "plt.ylabel('Frequency')\n",
    "plt.title('Histogram of Amount for normal')\n",
    "plt.legend()\n",
    "plt.show()"
   ]
  },
  {
   "cell_type": "code",
   "execution_count": 21,
   "id": "cd811f46-3baf-4ecc-a068-cb6aeed52a28",
   "metadata": {},
   "outputs": [],
   "source": [
    "fraud1 = fraud.sample(frac=0.1, random_state=42)"
   ]
  },
  {
   "cell_type": "code",
   "execution_count": 37,
   "id": "b90e5631-85e0-47be-8461-ba8014bfd344",
   "metadata": {},
   "outputs": [
    {
     "name": "stdout",
     "output_type": "stream",
     "text": [
      "(277041, 10)\n"
     ]
    }
   ],
   "source": [
    "print(fraud1.shape)"
   ]
  },
  {
   "cell_type": "code",
   "execution_count": 57,
   "id": "c338ceaa-44d8-4bb0-b226-b163764f4d21",
   "metadata": {},
   "outputs": [
    {
     "name": "stdout",
     "output_type": "stream",
     "text": [
      "         step     amount  oldbalanceOrg  newbalanceOrig  oldbalanceDest  \\\n",
      "1442460   140 285073.760     229352.640           0.000           0.000   \n",
      "5847267   402 204657.380       5093.000           0.000      911883.620   \n",
      "2163940   184  27554.100          0.000           0.000      154247.810   \n",
      "2689116   210 100950.610          0.000           0.000     3946646.290   \n",
      "1452693   140  42737.060          0.000           0.000      409890.880   \n",
      "...       ...        ...            ...             ...             ...   \n",
      "1803604   162 116289.730      31642.000           0.000     3637002.140   \n",
      "3048130   234  42554.590          0.000           0.000      318272.890   \n",
      "4673982   331 271868.370        206.000           0.000     5756777.520   \n",
      "6131811   542 314360.480      38829.000           0.000      670119.930   \n",
      "2967344   231  29494.020          0.000           0.000      237151.700   \n",
      "\n",
      "         newbalanceDest  isFraud  type_encoded  \n",
      "1442460      285073.760        0             0  \n",
      "5847267     1116541.000        0             0  \n",
      "2163940      181801.910        0             0  \n",
      "2689116     4047596.900        0             0  \n",
      "1452693      364619.440        0             0  \n",
      "...                 ...      ...           ...  \n",
      "1803604     3753291.880        0             0  \n",
      "3048130      360827.480        0             0  \n",
      "4673982     6028645.900        0             0  \n",
      "6131811      984480.410        0             0  \n",
      "2967344      266645.710        0             0  \n",
      "\n",
      "[277041 rows x 8 columns]\n"
     ]
    }
   ],
   "source": [
    "print(fraud1)"
   ]
  },
  {
   "cell_type": "code",
   "execution_count": 57,
   "id": "22d63bc3-8733-445e-b3a1-01930a305ac0",
   "metadata": {},
   "outputs": [
    {
     "ename": "ValueError",
     "evalue": "could not convert string to float: 'CASH_OUT'",
     "output_type": "error",
     "traceback": [
      "\u001b[1;31m---------------------------------------------------------------------------\u001b[0m",
      "\u001b[1;31mValueError\u001b[0m                                Traceback (most recent call last)",
      "Cell \u001b[1;32mIn[57], line 1\u001b[0m\n\u001b[1;32m----> 1\u001b[0m correlation_matrix \u001b[38;5;241m=\u001b[39m fraud1\u001b[38;5;241m.\u001b[39mcorr()\n\u001b[0;32m      3\u001b[0m \u001b[38;5;66;03m# Print correlation matrix\u001b[39;00m\n\u001b[0;32m      4\u001b[0m \u001b[38;5;28mprint\u001b[39m(correlation_matrix)\n",
      "File \u001b[1;32m~\\anaconda3\\Lib\\site-packages\\pandas\\core\\frame.py:11049\u001b[0m, in \u001b[0;36mDataFrame.corr\u001b[1;34m(self, method, min_periods, numeric_only)\u001b[0m\n\u001b[0;32m  11047\u001b[0m cols \u001b[38;5;241m=\u001b[39m data\u001b[38;5;241m.\u001b[39mcolumns\n\u001b[0;32m  11048\u001b[0m idx \u001b[38;5;241m=\u001b[39m cols\u001b[38;5;241m.\u001b[39mcopy()\n\u001b[1;32m> 11049\u001b[0m mat \u001b[38;5;241m=\u001b[39m data\u001b[38;5;241m.\u001b[39mto_numpy(dtype\u001b[38;5;241m=\u001b[39m\u001b[38;5;28mfloat\u001b[39m, na_value\u001b[38;5;241m=\u001b[39mnp\u001b[38;5;241m.\u001b[39mnan, copy\u001b[38;5;241m=\u001b[39m\u001b[38;5;28;01mFalse\u001b[39;00m)\n\u001b[0;32m  11051\u001b[0m \u001b[38;5;28;01mif\u001b[39;00m method \u001b[38;5;241m==\u001b[39m \u001b[38;5;124m\"\u001b[39m\u001b[38;5;124mpearson\u001b[39m\u001b[38;5;124m\"\u001b[39m:\n\u001b[0;32m  11052\u001b[0m     correl \u001b[38;5;241m=\u001b[39m libalgos\u001b[38;5;241m.\u001b[39mnancorr(mat, minp\u001b[38;5;241m=\u001b[39mmin_periods)\n",
      "File \u001b[1;32m~\\anaconda3\\Lib\\site-packages\\pandas\\core\\frame.py:1993\u001b[0m, in \u001b[0;36mDataFrame.to_numpy\u001b[1;34m(self, dtype, copy, na_value)\u001b[0m\n\u001b[0;32m   1991\u001b[0m \u001b[38;5;28;01mif\u001b[39;00m dtype \u001b[38;5;129;01mis\u001b[39;00m \u001b[38;5;129;01mnot\u001b[39;00m \u001b[38;5;28;01mNone\u001b[39;00m:\n\u001b[0;32m   1992\u001b[0m     dtype \u001b[38;5;241m=\u001b[39m np\u001b[38;5;241m.\u001b[39mdtype(dtype)\n\u001b[1;32m-> 1993\u001b[0m result \u001b[38;5;241m=\u001b[39m \u001b[38;5;28mself\u001b[39m\u001b[38;5;241m.\u001b[39m_mgr\u001b[38;5;241m.\u001b[39mas_array(dtype\u001b[38;5;241m=\u001b[39mdtype, copy\u001b[38;5;241m=\u001b[39mcopy, na_value\u001b[38;5;241m=\u001b[39mna_value)\n\u001b[0;32m   1994\u001b[0m \u001b[38;5;28;01mif\u001b[39;00m result\u001b[38;5;241m.\u001b[39mdtype \u001b[38;5;129;01mis\u001b[39;00m \u001b[38;5;129;01mnot\u001b[39;00m dtype:\n\u001b[0;32m   1995\u001b[0m     result \u001b[38;5;241m=\u001b[39m np\u001b[38;5;241m.\u001b[39masarray(result, dtype\u001b[38;5;241m=\u001b[39mdtype)\n",
      "File \u001b[1;32m~\\anaconda3\\Lib\\site-packages\\pandas\\core\\internals\\managers.py:1694\u001b[0m, in \u001b[0;36mBlockManager.as_array\u001b[1;34m(self, dtype, copy, na_value)\u001b[0m\n\u001b[0;32m   1692\u001b[0m         arr\u001b[38;5;241m.\u001b[39mflags\u001b[38;5;241m.\u001b[39mwriteable \u001b[38;5;241m=\u001b[39m \u001b[38;5;28;01mFalse\u001b[39;00m\n\u001b[0;32m   1693\u001b[0m \u001b[38;5;28;01melse\u001b[39;00m:\n\u001b[1;32m-> 1694\u001b[0m     arr \u001b[38;5;241m=\u001b[39m \u001b[38;5;28mself\u001b[39m\u001b[38;5;241m.\u001b[39m_interleave(dtype\u001b[38;5;241m=\u001b[39mdtype, na_value\u001b[38;5;241m=\u001b[39mna_value)\n\u001b[0;32m   1695\u001b[0m     \u001b[38;5;66;03m# The underlying data was copied within _interleave, so no need\u001b[39;00m\n\u001b[0;32m   1696\u001b[0m     \u001b[38;5;66;03m# to further copy if copy=True or setting na_value\u001b[39;00m\n\u001b[0;32m   1698\u001b[0m \u001b[38;5;28;01mif\u001b[39;00m na_value \u001b[38;5;129;01mis\u001b[39;00m lib\u001b[38;5;241m.\u001b[39mno_default:\n",
      "File \u001b[1;32m~\\anaconda3\\Lib\\site-packages\\pandas\\core\\internals\\managers.py:1753\u001b[0m, in \u001b[0;36mBlockManager._interleave\u001b[1;34m(self, dtype, na_value)\u001b[0m\n\u001b[0;32m   1751\u001b[0m     \u001b[38;5;28;01melse\u001b[39;00m:\n\u001b[0;32m   1752\u001b[0m         arr \u001b[38;5;241m=\u001b[39m blk\u001b[38;5;241m.\u001b[39mget_values(dtype)\n\u001b[1;32m-> 1753\u001b[0m     result[rl\u001b[38;5;241m.\u001b[39mindexer] \u001b[38;5;241m=\u001b[39m arr\n\u001b[0;32m   1754\u001b[0m     itemmask[rl\u001b[38;5;241m.\u001b[39mindexer] \u001b[38;5;241m=\u001b[39m \u001b[38;5;241m1\u001b[39m\n\u001b[0;32m   1756\u001b[0m \u001b[38;5;28;01mif\u001b[39;00m \u001b[38;5;129;01mnot\u001b[39;00m itemmask\u001b[38;5;241m.\u001b[39mall():\n",
      "\u001b[1;31mValueError\u001b[0m: could not convert string to float: 'CASH_OUT'"
     ]
    }
   ],
   "source": [
    "correlation_matrix = fraud1.corr()\n",
    "\n",
    "# Print correlation matrix\n",
    "print(correlation_matrix)"
   ]
  },
  {
   "cell_type": "code",
   "execution_count": 71,
   "id": "297abdea-0542-4fad-9c48-7d2558259f33",
   "metadata": {},
   "outputs": [],
   "source": [
    "import numpy as np\n",
    "numeric_columns = fraud1.select_dtypes(include=[np.number])  # Select numeric columns only\n",
    "correlation_matrix = numeric_columns.corr()"
   ]
  },
  {
   "cell_type": "code",
   "execution_count": null,
   "id": "2ff684c6-9ab2-435b-8629-b59495f0d1a2",
   "metadata": {},
   "outputs": [],
   "source": [
    "# Example: Using one-hot encoding for categorical columns\n",
    "encoded_df = pd.get_dummies(fraud1)  # Converts categorical variables into dummy/indicator variables\n",
    "correlation_matrix = encoded_df.corr()\n"
   ]
  },
  {
   "cell_type": "code",
   "execution_count": 23,
   "id": "9d969e8b-494b-4ce1-b2bc-a7c6bb26ceb6",
   "metadata": {},
   "outputs": [
    {
     "name": "stdout",
     "output_type": "stream",
     "text": [
      "         step      type     amount     nameOrig  oldbalanceOrg  \\\n",
      "1442460   140  CASH_OUT 285073.760  C1243325987     229352.640   \n",
      "5847267   402  CASH_OUT 204657.380  C1319437678       5093.000   \n",
      "2163940   184  CASH_OUT  27554.100  C1632235813          0.000   \n",
      "2689116   210  CASH_OUT 100950.610  C1696293785          0.000   \n",
      "1452693   140  CASH_OUT  42737.060   C791832067          0.000   \n",
      "...       ...       ...        ...          ...            ...   \n",
      "1803604   162  CASH_OUT 116289.730  C1698503113      31642.000   \n",
      "3048130   234  CASH_OUT  42554.590  C2058088646          0.000   \n",
      "4673982   331  CASH_OUT 271868.370  C1518055568        206.000   \n",
      "6131811   542  CASH_OUT 314360.480   C574266860      38829.000   \n",
      "2967344   231  CASH_OUT  29494.020   C435877670          0.000   \n",
      "\n",
      "         newbalanceOrig     nameDest  oldbalanceDest  newbalanceDest  isFraud  \\\n",
      "1442460           0.000   C653737184           0.000      285073.760        0   \n",
      "5847267           0.000  C1983611293      911883.620     1116541.000        0   \n",
      "2163940           0.000  C2106154212      154247.810      181801.910        0   \n",
      "2689116           0.000   C424584166     3946646.290     4047596.900        0   \n",
      "1452693           0.000  C1495466286      409890.880      364619.440        0   \n",
      "...                 ...          ...             ...             ...      ...   \n",
      "1803604           0.000  C1062932888     3637002.140     3753291.880        0   \n",
      "3048130           0.000   C672456005      318272.890      360827.480        0   \n",
      "4673982           0.000  C2108143720     5756777.520     6028645.900        0   \n",
      "6131811           0.000   C493214262      670119.930      984480.410        0   \n",
      "2967344           0.000   C733303560      237151.700      266645.710        0   \n",
      "\n",
      "         type_encoded  \n",
      "1442460             0  \n",
      "5847267             0  \n",
      "2163940             0  \n",
      "2689116             0  \n",
      "1452693             0  \n",
      "...               ...  \n",
      "1803604             0  \n",
      "3048130             0  \n",
      "4673982             0  \n",
      "6131811             0  \n",
      "2967344             0  \n",
      "\n",
      "[277041 rows x 11 columns]\n"
     ]
    }
   ],
   "source": [
    "# Label Encoding\n",
    "fraud1['type_encoded'] = fraud['type'].map({'CASH_OUT': 0, 'TRANSFER': 1})\n",
    "\n",
    "print(fraud1)"
   ]
  },
  {
   "cell_type": "code",
   "execution_count": 27,
   "id": "395e7a3b-6418-44f8-bba5-d097e473d510",
   "metadata": {},
   "outputs": [],
   "source": [
    "fraud1 = fraud1.drop(columns = \"type\")"
   ]
  },
  {
   "cell_type": "code",
   "execution_count": 29,
   "id": "dcc7fa32-2a8e-47c5-8a0e-7c2a4134d624",
   "metadata": {},
   "outputs": [],
   "source": [
    "fraud1 = fraud1.drop(columns = \"nameOrig\")\n",
    "fraud1 = fraud1.drop(columns = \"nameDest\")"
   ]
  },
  {
   "cell_type": "code",
   "execution_count": 33,
   "id": "3afa529f-949a-44ec-b5f8-f2a61044b706",
   "metadata": {},
   "outputs": [
    {
     "data": {
      "text/plain": [
       "step                 620\n",
       "amount            275910\n",
       "oldbalanceOrg      85800\n",
       "newbalanceOrig     27447\n",
       "oldbalanceDest    237630\n",
       "newbalanceDest    273092\n",
       "isFraud                2\n",
       "type_encoded           2\n",
       "dtype: int64"
      ]
     },
     "execution_count": 33,
     "metadata": {},
     "output_type": "execute_result"
    }
   ],
   "source": [
    "fraud1.nunique()"
   ]
  },
  {
   "cell_type": "code",
   "execution_count": 35,
   "id": "5149fa37-77fa-4b6e-be32-609aea0b85fb",
   "metadata": {},
   "outputs": [
    {
     "name": "stdout",
     "output_type": "stream",
     "text": [
      "Encoded DataFrame:\n",
      "          step     amount  oldbalanceOrg  newbalanceOrig  oldbalanceDest  \\\n",
      "1442460   140 285073.760     229352.640           0.000           0.000   \n",
      "5847267   402 204657.380       5093.000           0.000      911883.620   \n",
      "2163940   184  27554.100          0.000           0.000      154247.810   \n",
      "2689116   210 100950.610          0.000           0.000     3946646.290   \n",
      "1452693   140  42737.060          0.000           0.000      409890.880   \n",
      "...       ...        ...            ...             ...             ...   \n",
      "1803604   162 116289.730      31642.000           0.000     3637002.140   \n",
      "3048130   234  42554.590          0.000           0.000      318272.890   \n",
      "4673982   331 271868.370        206.000           0.000     5756777.520   \n",
      "6131811   542 314360.480      38829.000           0.000      670119.930   \n",
      "2967344   231  29494.020          0.000           0.000      237151.700   \n",
      "\n",
      "         newbalanceDest  isFraud  type_encoded  \n",
      "1442460      285073.760        0             0  \n",
      "5847267     1116541.000        0             0  \n",
      "2163940      181801.910        0             0  \n",
      "2689116     4047596.900        0             0  \n",
      "1452693      364619.440        0             0  \n",
      "...                 ...      ...           ...  \n",
      "1803604     3753291.880        0             0  \n",
      "3048130      360827.480        0             0  \n",
      "4673982     6028645.900        0             0  \n",
      "6131811      984480.410        0             0  \n",
      "2967344      266645.710        0             0  \n",
      "\n",
      "[277041 rows x 8 columns]\n",
      "\n",
      "Features (X):\n",
      "          step     amount  oldbalanceOrg  newbalanceOrig  oldbalanceDest  \\\n",
      "1442460   140 285073.760     229352.640           0.000           0.000   \n",
      "5847267   402 204657.380       5093.000           0.000      911883.620   \n",
      "2163940   184  27554.100          0.000           0.000      154247.810   \n",
      "2689116   210 100950.610          0.000           0.000     3946646.290   \n",
      "1452693   140  42737.060          0.000           0.000      409890.880   \n",
      "...       ...        ...            ...             ...             ...   \n",
      "1803604   162 116289.730      31642.000           0.000     3637002.140   \n",
      "3048130   234  42554.590          0.000           0.000      318272.890   \n",
      "4673982   331 271868.370        206.000           0.000     5756777.520   \n",
      "6131811   542 314360.480      38829.000           0.000      670119.930   \n",
      "2967344   231  29494.020          0.000           0.000      237151.700   \n",
      "\n",
      "         newbalanceDest  type_encoded  \n",
      "1442460      285073.760             0  \n",
      "5847267     1116541.000             0  \n",
      "2163940      181801.910             0  \n",
      "2689116     4047596.900             0  \n",
      "1452693      364619.440             0  \n",
      "...                 ...           ...  \n",
      "1803604     3753291.880             0  \n",
      "3048130      360827.480             0  \n",
      "4673982     6028645.900             0  \n",
      "6131811      984480.410             0  \n",
      "2967344      266645.710             0  \n",
      "\n",
      "[277041 rows x 7 columns]\n",
      "\n",
      "Target (y):\n",
      " 1442460    0\n",
      "5847267    0\n",
      "2163940    0\n",
      "2689116    0\n",
      "1452693    0\n",
      "          ..\n",
      "1803604    0\n",
      "3048130    0\n",
      "4673982    0\n",
      "6131811    0\n",
      "2967344    0\n",
      "Name: isFraud, Length: 277041, dtype: int64\n"
     ]
    }
   ],
   "source": [
    "X = fraud1.drop('isFraud', axis=1)\n",
    "y = fraud1['isFraud']\n",
    "\n",
    "# Display the DataFrame to check the encoding and the feature-target split\n",
    "print(\"Encoded DataFrame:\\n\", fraud1)\n",
    "print(\"\\nFeatures (X):\\n\", X)\n",
    "print(\"\\nTarget (y):\\n\", y)"
   ]
  },
  {
   "cell_type": "code",
   "execution_count": 39,
   "id": "a3abc479-0649-41e3-896c-aedf8fb68620",
   "metadata": {},
   "outputs": [
    {
     "name": "stdout",
     "output_type": "stream",
     "text": [
      "Classification Report:\n",
      "              precision    recall  f1-score   support\n",
      "\n",
      "           0       1.00      1.00      1.00     74710\n",
      "           1       0.94      0.37      0.53        92\n",
      "\n",
      "    accuracy                           1.00     74802\n",
      "   macro avg       0.97      0.68      0.77     74802\n",
      "weighted avg       1.00      1.00      1.00     74802\n",
      "\n",
      "Accuracy Score: 0.9992\n"
     ]
    }
   ],
   "source": [
    "import pandas as pd\n",
    "from sklearn.ensemble import IsolationForest, RandomForestClassifier\n",
    "from sklearn.model_selection import train_test_split\n",
    "from sklearn.metrics import classification_report, accuracy_score\n",
    "import matplotlib.pyplot as plt\n",
    "\n",
    "# Assuming you have already defined X and y\n",
    "# Apply Isolation Forest to detect anomalies\n",
    "iso_forest = IsolationForest(contamination=0.1, random_state=42)\n",
    "y_pred_iso = iso_forest.fit_predict(X)\n",
    "\n",
    "# Remove the detected anomalies\n",
    "mask = y_pred_iso != -1\n",
    "X_clean = X[mask]\n",
    "y_clean = y[mask]\n",
    "\n",
    "# Split the cleaned data into training and test sets\n",
    "X_train, X_test, y_train, y_test = train_test_split(X_clean, y_clean, test_size=0.3, random_state=42)\n",
    "\n",
    "# Train a RandomForestClassifier\n",
    "clf = RandomForestClassifier(random_state=42)\n",
    "clf.fit(X_train, y_train)\n",
    "\n",
    "# Predict on test set\n",
    "y_pred = clf.predict(X_test)\n",
    "\n",
    "# Print classification report\n",
    "print(\"Classification Report:\")\n",
    "print(classification_report(y_test, y_pred))\n",
    "\n",
    "# Calculate accuracy score\n",
    "accuracy = accuracy_score(y_test, y_pred)\n",
    "print(f\"Accuracy Score: {accuracy:.4f}\")\n"
   ]
  },
  {
   "cell_type": "code",
   "execution_count": 41,
   "id": "137cb6d2-c33d-4c80-a836-2724074b3d1a",
   "metadata": {},
   "outputs": [
    {
     "name": "stdout",
     "output_type": "stream",
     "text": [
      "Evaluation results for Isolation Forest cleaned data:\n",
      "              precision    recall  f1-score   support\n",
      "\n",
      "           0       1.00      1.00      1.00     74710\n",
      "           1       0.94      0.37      0.53        92\n",
      "\n",
      "    accuracy                           1.00     74802\n",
      "   macro avg       0.97      0.68      0.77     74802\n",
      "weighted avg       1.00      1.00      1.00     74802\n",
      "\n",
      "Accuracy Score: 0.9992\n",
      "\n",
      "Evaluation results for LOF cleaned data:\n",
      "              precision    recall  f1-score   support\n",
      "\n",
      "           0       1.00      1.00      1.00     74595\n",
      "           1       0.98      0.68      0.80       207\n",
      "\n",
      "    accuracy                           1.00     74802\n",
      "   macro avg       0.99      0.84      0.90     74802\n",
      "weighted avg       1.00      1.00      1.00     74802\n",
      "\n",
      "Accuracy Score: 0.9991\n"
     ]
    }
   ],
   "source": [
    "import pandas as pd\n",
    "from sklearn.ensemble import IsolationForest, RandomForestClassifier\n",
    "from sklearn.neighbors import LocalOutlierFactor\n",
    "from sklearn.model_selection import train_test_split\n",
    "from sklearn.metrics import classification_report, accuracy_score\n",
    "import matplotlib.pyplot as plt\n",
    "\n",
    "# Assuming you have already defined X and y\n",
    "# Apply Isolation Forest to detect anomalies\n",
    "iso_forest = IsolationForest(contamination=0.1, random_state=42)\n",
    "y_pred_iso = iso_forest.fit_predict(X)\n",
    "\n",
    "# Apply Local Outlier Factor (LOF) to detect anomalies\n",
    "lof = LocalOutlierFactor(contamination=0.1)\n",
    "y_pred_lof = lof.fit_predict(X)\n",
    "\n",
    "# Remove the detected anomalies using Isolation Forest\n",
    "mask_iso = y_pred_iso != -1\n",
    "X_clean_iso = X[mask_iso]\n",
    "y_clean_iso = y[mask_iso]\n",
    "\n",
    "# Remove the detected anomalies using LOF\n",
    "mask_lof = y_pred_lof != -1\n",
    "X_clean_lof = X[mask_lof]\n",
    "y_clean_lof = y[mask_lof]\n",
    "\n",
    "# Split the cleaned data from both methods into training and test sets\n",
    "X_train_iso, X_test_iso, y_train_iso, y_test_iso = train_test_split(X_clean_iso, y_clean_iso, test_size=0.3, random_state=42)\n",
    "X_train_lof, X_test_lof, y_train_lof, y_test_lof = train_test_split(X_clean_lof, y_clean_lof, test_size=0.3, random_state=42)\n",
    "\n",
    "# Train a RandomForestClassifier on Isolation Forest cleaned data\n",
    "clf_iso = RandomForestClassifier(random_state=42)\n",
    "clf_iso.fit(X_train_iso, y_train_iso)\n",
    "\n",
    "# Train a RandomForestClassifier on LOF cleaned data\n",
    "clf_lof = RandomForestClassifier(random_state=42)\n",
    "clf_lof.fit(X_train_lof, y_train_lof)\n",
    "\n",
    "# Predict and evaluate Isolation Forest cleaned data\n",
    "y_pred_iso = clf_iso.predict(X_test_iso)\n",
    "print(\"Evaluation results for Isolation Forest cleaned data:\")\n",
    "print(classification_report(y_test_iso, y_pred_iso))\n",
    "accuracy_iso = accuracy_score(y_test_iso, y_pred_iso)\n",
    "print(f\"Accuracy Score: {accuracy_iso:.4f}\")\n",
    "\n",
    "# Predict and evaluate LOF cleaned data\n",
    "y_pred_lof = clf_lof.predict(X_test_lof)\n",
    "print(\"\\nEvaluation results for LOF cleaned data:\")\n",
    "print(classification_report(y_test_lof, y_pred_lof))\n",
    "accuracy_lof = accuracy_score(y_test_lof, y_pred_lof)\n",
    "print(f\"Accuracy Score: {accuracy_lof:.4f}\")\n"
   ]
  },
  {
   "cell_type": "code",
   "execution_count": null,
   "id": "2e22e807-3924-49de-8f7a-2fb4869554a6",
   "metadata": {},
   "outputs": [],
   "source": [
    "import pandas as pd\n",
    "from sklearn.ensemble import IsolationForest, RandomForestClassifier\n",
    "from sklearn.neighbors import LocalOutlierFactor\n",
    "from sklearn.svm import OneClassSVM\n",
    "from sklearn.model_selection import train_test_split\n",
    "from sklearn.metrics import classification_report, accuracy_score\n",
    "import matplotlib.pyplot as plt\n",
    "\n",
    "# Assuming you have already defined X and y\n",
    "# Apply Isolation Forest to detect anomalies\n",
    "iso_forest = IsolationForest(contamination=0.1, random_state=42)\n",
    "y_pred_iso = iso_forest.fit_predict(X)\n",
    "\n",
    "# Apply Local Outlier Factor (LOF) to detect anomalies\n",
    "lof = LocalOutlierFactor(contamination=0.1)\n",
    "y_pred_lof = lof.fit_predict(X)\n",
    "\n",
    "# Apply One-Class SVM to detect anomalies\n",
    "svm = OneClassSVM(nu=0.1)\n",
    "y_pred_svm = svm.fit_predict(X)\n",
    "\n",
    "# Remove the detected anomalies using Isolation Forest\n",
    "mask_iso = y_pred_iso != -1\n",
    "X_clean_iso = X[mask_iso]\n",
    "y_clean_iso = y[mask_iso]\n",
    "\n",
    "# Remove the detected anomalies using LOF\n",
    "mask_lof = y_pred_lof != -1\n",
    "X_clean_lof = X[mask_lof]\n",
    "y_clean_lof = y[mask_lof]\n",
    "\n",
    "# Remove the detected anomalies using One-Class SVM\n",
    "mask_svm = y_pred_svm != -1\n",
    "X_clean_svm = X[mask_svm]\n",
    "y_clean_svm = y[mask_svm]\n",
    "\n",
    "# Split the cleaned data from all methods into training and test sets\n",
    "X_train_iso, X_test_iso, y_train_iso, y_test_iso = train_test_split(X_clean_iso, y_clean_iso, test_size=0.3, random_state=42)\n",
    "X_train_lof, X_test_lof, y_train_lof, y_test_lof = train_test_split(X_clean_lof, y_clean_lof, test_size=0.3, random_state=42)\n",
    "X_train_svm, X_test_svm, y_train_svm, y_test_svm = train_test_split(X_clean_svm, y_clean_svm, test_size=0.3, random_state=42)\n",
    "\n",
    "# Train a RandomForestClassifier on Isolation Forest cleaned data\n",
    "clf_iso = RandomForestClassifier(random_state=42)\n",
    "clf_iso.fit(X_train_iso, y_train_iso)\n",
    "\n",
    "# Train a RandomForestClassifier on LOF cleaned data\n",
    "clf_lof = RandomForestClassifier(random_state=42)\n",
    "clf_lof.fit(X_train_lof, y_train_lof)\n",
    "\n",
    "# Train a RandomForestClassifier on SVM cleaned data\n",
    "clf_svm = RandomForestClassifier(random_state=42)\n",
    "clf_svm.fit(X_train_svm, y_train_svm)\n",
    "\n",
    "# Predict and evaluate Isolation Forest cleaned data\n",
    "y_pred_iso = clf_iso.predict(X_test_iso)\n",
    "print(\"Evaluation results for Isolation Forest cleaned data:\")\n",
    "print(classification_report(y_test_iso, y_pred_iso))\n",
    "accuracy_iso = accuracy_score(y_test_iso, y_pred_iso)\n",
    "print(f\"Accuracy Score: {accuracy_iso:.4f}\")\n",
    "\n",
    "# Predict and evaluate LOF cleaned data\n",
    "y_pred_lof = clf_lof.predict(X_test_lof)\n",
    "print(\"\\nEvaluation results for LOF cleaned data:\")\n",
    "print(classification_report(y_test_lof, y_pred_lof))\n",
    "accuracy_lof = accuracy_score(y_test_lof, y_pred_lof)\n",
    "print(f\"Accuracy Score: {accuracy_lof:.4f}\")\n",
    "\n",
    "# Predict and evaluate SVM cleaned data\n",
    "y_pred_svm = clf_svm.predict(X_test_svm)\n",
    "print(\"\\nEvaluation results for SVM cleaned data:\")\n",
    "print(classification_report(y_test_svm, y_pred_svm))\n",
    "accuracy_svm = accuracy_score(y_test_svm, y_pred_svm)\n",
    "print(f\"Accuracy Score: {accuracy_svm:.4f}\")\n",
    "\n"
   ]
  }
 ],
 "metadata": {
  "kernelspec": {
   "display_name": "Python 3 (ipykernel)",
   "language": "python",
   "name": "python3"
  },
  "language_info": {
   "codemirror_mode": {
    "name": "ipython",
    "version": 3
   },
   "file_extension": ".py",
   "mimetype": "text/x-python",
   "name": "python",
   "nbconvert_exporter": "python",
   "pygments_lexer": "ipython3",
   "version": "3.12.4"
  }
 },
 "nbformat": 4,
 "nbformat_minor": 5
}
